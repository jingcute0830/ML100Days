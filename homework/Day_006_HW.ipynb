{
 "cells": [
  {
   "cell_type": "code",
   "execution_count": 2,
   "metadata": {},
   "outputs": [],
   "source": [
    "import numpy as np"
   ]
  },
  {
   "cell_type": "code",
   "execution_count": 3,
   "metadata": {},
   "outputs": [],
   "source": [
    "#. 將下兩列array存成npz檔\n",
    "array1 = np.array(range(30))\n",
    "array2 = np.array([2,3,5])\n",
    "with open('multi_array.npz','wb') as f:\n",
    "    np.savez(f,array1=array1,array2=array2)"
   ]
  },
  {
   "cell_type": "code",
   "execution_count": 13,
   "metadata": {},
   "outputs": [],
   "source": [
    "#2. 讀取剛剛的npz檔，加入下列array一起存成新的npz檔\n",
    "npzfile=np.load('multi_array.npz')\n",
    "array=np.array(range(20))\n",
    "with open('multi_array2.npz','wb') as f:\n",
    "    np.savez(f,npzfile['array1'],npzfile['array2'],array)\n"
   ]
  },
  {
   "cell_type": "code",
   "execution_count": null,
   "metadata": {},
   "outputs": [],
   "source": []
  }
 ],
 "metadata": {
  "kernelspec": {
   "display_name": "Python 3",
   "language": "python",
   "name": "python3"
  },
  "language_info": {
   "codemirror_mode": {
    "name": "ipython",
    "version": 3
   },
   "file_extension": ".py",
   "mimetype": "text/x-python",
   "name": "python",
   "nbconvert_exporter": "python",
   "pygments_lexer": "ipython3",
   "version": "3.8.5"
  }
 },
 "nbformat": 4,
 "nbformat_minor": 4
}
