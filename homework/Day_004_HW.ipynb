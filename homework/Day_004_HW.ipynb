{
 "cells": [
  {
   "cell_type": "code",
   "execution_count": 2,
   "metadata": {},
   "outputs": [],
   "source": [
    "import numpy as np\n",
    "english_score=np.array([55,89,76,65,48,70])\n",
    "math_score=np.array([60,85,60,68,55,60])\n",
    "chinese_score=np.array([65,90,82,72,66,77])"
   ]
  },
  {
   "cell_type": "code",
   "execution_count": 7,
   "metadata": {},
   "outputs": [
    {
     "name": "stdout",
     "output_type": "stream",
     "text": [
      "英文成績比數學成績高有 3 人\n"
     ]
    }
   ],
   "source": [
    "#1.有多少學生英文成績比數學成績高?\n",
    "anser=0\n",
    "for i in range(len(english_score)):\n",
    "    if(np.greater(english_score[i],math_score[i])):\n",
    "        anser=anser+1\n",
    "print(\"英文成績比數學成績高有\",anser,\"人\")"
   ]
  },
  {
   "cell_type": "code",
   "execution_count": 11,
   "metadata": {},
   "outputs": [
    {
     "name": "stdout",
     "output_type": "stream",
     "text": [
      "全班同學最高分都是國文\n"
     ]
    }
   ],
   "source": [
    "#2.是否全班同學最高分都是國文?\n",
    "anser=0\n",
    "for i in range(len(chinese_score)):\n",
    "    if(np.logical_or(np.less(chinese_score[i],math_score[i]) , np.less(chinese_score[i],english_score[i]))):\n",
    "        anser=anser+1\n",
    "        break\n",
    "if(anser==0):\n",
    "       print(\"全班同學最高分都是國文\")\n",
    "else:\n",
    "       print(\"不是全班同學最高分都是國文\")"
   ]
  }
 ],
 "metadata": {
  "kernelspec": {
   "display_name": "Python 3",
   "language": "python",
   "name": "python3"
  },
  "language_info": {
   "codemirror_mode": {
    "name": "ipython",
    "version": 3
   },
   "file_extension": ".py",
   "mimetype": "text/x-python",
   "name": "python",
   "nbconvert_exporter": "python",
   "pygments_lexer": "ipython3",
   "version": "3.8.5"
  }
 },
 "nbformat": 4,
 "nbformat_minor": 4
}
